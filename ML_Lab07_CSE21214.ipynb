{
  "nbformat": 4,
  "nbformat_minor": 0,
  "metadata": {
    "colab": {
      "provenance": []
    },
    "kernelspec": {
      "name": "python3",
      "display_name": "Python 3"
    },
    "language_info": {
      "name": "python"
    }
  },
  "cells": [
    {
      "cell_type": "code",
      "execution_count": 10,
      "metadata": {
        "colab": {
          "base_uri": "https://localhost:8080/"
        },
        "id": "ibmL5lM-UVXD",
        "outputId": "bcdcdf92-f439-473d-a991-8569f1b77cad"
      },
      "outputs": [
        {
          "output_type": "stream",
          "name": "stdout",
          "text": [
            "Support Vectors: [[9.1000e-03 2.1083e+01]\n",
            " [1.3500e-03 3.1732e+01]\n",
            " [2.7640e-02 1.9517e+01]\n",
            " [7.4000e-03 2.2736e+01]\n",
            " [4.2000e-03 2.4547e+01]\n",
            " [8.7100e-03 2.5554e+01]\n",
            " [4.7400e-03 2.5030e+01]\n",
            " [6.2000e-03 2.4078e+01]\n",
            " [1.6700e-03 3.0940e+01]\n",
            " [4.7800e-03 2.6547e+01]\n",
            " [1.3970e-02 2.3958e+01]\n",
            " [4.7600e-03 2.4602e+01]\n",
            " [7.3700e-03 2.4199e+01]\n",
            " [7.2000e-04 3.2684e+01]\n",
            " [1.1900e-03 3.0775e+01]\n",
            " [3.4000e-03 2.5856e+01]\n",
            " [5.9000e-03 2.5445e+01]\n",
            " [3.0000e-03 2.6415e+01]\n",
            " [4.5400e-03 2.5368e+01]\n",
            " [7.2230e-02 1.9020e+01]\n",
            " [3.0100e-03 2.6138e+01]\n",
            " [4.4410e-02 1.9368e+01]\n",
            " [4.3200e-03 2.6805e+01]\n",
            " [6.7500e-03 2.3145e+01]\n",
            " [4.8400e-03 2.5429e+01]\n",
            " [4.0100e-03 2.6005e+01]\n",
            " [4.6200e-03 2.4971e+01]\n",
            " [6.5000e-04 3.3047e+01]\n",
            " [4.3500e-03 2.6436e+01]\n",
            " [4.1500e-03 2.6143e+01]\n",
            " [5.3300e-03 2.4679e+01]\n",
            " [1.0490e-02 2.1528e+01]\n",
            " [3.5100e-03 2.5964e+01]\n",
            " [4.7900e-03 2.5135e+01]\n",
            " [1.8100e-02 1.9147e+01]\n",
            " [8.3900e-03 2.3162e+01]\n",
            " [6.8000e-03 2.5023e+01]\n",
            " [9.5500e-03 2.3079e+01]\n",
            " [4.8100e-03 2.4692e+01]\n",
            " [4.3980e-02 2.1209e+01]\n",
            " [7.0300e-03 2.4775e+01]\n",
            " [9.6900e-03 2.1422e+01]\n",
            " [2.4300e-03 2.8409e+01]\n",
            " [1.0620e-02 2.1875e+01]\n",
            " [1.1700e-02 2.5678e+01]\n",
            " [2.3100e-03 2.6738e+01]\n",
            " [5.8100e-03 2.5703e+01]\n",
            " [2.5700e-03 2.6453e+01]\n",
            " [1.0950e-02 2.5908e+01]\n",
            " [5.8600e-03 2.3216e+01]\n",
            " [4.6110e-02 2.1824e+01]\n",
            " [6.0700e-03 2.4886e+01]\n",
            " [1.3280e-02 2.5119e+01]\n",
            " [1.1660e-02 2.1118e+01]\n",
            " [2.2110e-02 2.1033e+01]\n",
            " [1.0480e-02 2.1864e+01]\n",
            " [6.7700e-03 2.5970e+01]\n",
            " [2.3100e-03 2.6822e+01]\n",
            " [2.8870e-02 2.2066e+01]\n",
            " [1.8400e-02 2.0422e+01]\n",
            " [2.3800e-03 2.9928e+01]\n",
            " [2.6500e-03 2.6310e+01]\n",
            " [2.3500e-02 2.4743e+01]\n",
            " [4.2000e-03 2.5820e+01]\n",
            " [1.4350e-02 2.1219e+01]\n",
            " [5.7000e-03 2.4151e+01]\n",
            " [3.1910e-02 2.2953e+01]\n",
            " [5.7800e-03 2.7421e+01]\n",
            " [5.0400e-03 2.5619e+01]\n",
            " [6.1100e-03 2.3133e+01]\n",
            " [7.0400e-03 2.3239e+01]\n",
            " [1.0410e-02 2.4889e+01]\n",
            " [1.0150e-02 2.6017e+01]\n",
            " [4.4200e-03 2.5742e+01]\n",
            " [4.8800e-03 2.4412e+01]\n",
            " [6.5900e-03 2.6833e+01]\n",
            " [6.8100e-03 2.2817e+01]\n",
            " [4.8700e-03 2.6369e+01]\n",
            " [3.4000e-03 2.4951e+01]\n",
            " [1.6100e-02 2.3949e+01]\n",
            " [4.9500e-03 2.6759e+01]\n",
            " [1.5540e-02 2.6356e+01]\n",
            " [4.7900e-03 2.5438e+01]\n",
            " [1.1610e-02 2.7166e+01]\n",
            " [2.3300e-03 2.9746e+01]\n",
            " [6.0900e-03 2.4922e+01]]\n"
          ]
        }
      ],
      "source": [
        "import pandas as pd\n",
        "from sklearn import svm\n",
        "from sklearn.model_selection import train_test_split\n",
        "\n",
        "# Load your dataset from Excel\n",
        "data = pd.read_excel('Parkisons Dataset 1 Final.xlsx')\n",
        "\n",
        "X = data[['NHR', 'HNR']]\n",
        "y = data['status']\n",
        "\n",
        "class_1 = 0\n",
        "class_2 = 1\n",
        "\n",
        "# Select rows corresponding to the chosen classes\n",
        "selected_rows = (y == class_1) | (y == class_2)\n",
        "X_selected = X[selected_rows]\n",
        "y_selected = y[selected_rows]\n",
        "\n",
        "# Split the data into training and testing sets\n",
        "X_train, X_test, y_train, y_test = train_test_split(X_selected, y_selected, test_size=0.2, random_state=42)\n",
        "\n",
        "# Train a support vector machine with a linear kernel\n",
        "clf_linear = svm.SVC(kernel='linear')\n",
        "clf_linear.fit(X_train, y_train)\n",
        "\n",
        "# Get the support vectors\n",
        "support_vectors = clf_linear.support_vectors_\n",
        "print(\"Support Vectors:\", support_vectors)\n"
      ]
    },
    {
      "cell_type": "code",
      "source": [
        "# Test the accuracy of the SVM\n",
        "accuracy = clf_linear.score(X_test, y_test)\n",
        "print(\"Accuracy:\", accuracy)\n",
        "\n",
        "# Perform classification for a given vector\n",
        "test_vector = [[1.5, 2.0]]\n",
        "predicted_class = clf_linear.predict(test_vector)\n",
        "print(\"Predicted Class:\", predicted_class)\n"
      ],
      "metadata": {
        "colab": {
          "base_uri": "https://localhost:8080/"
        },
        "id": "k5QBmzsVVkrg",
        "outputId": "c7886afd-a6a3-4404-b24b-27aef6e128c6"
      },
      "execution_count": 11,
      "outputs": [
        {
          "output_type": "stream",
          "name": "stdout",
          "text": [
            "Accuracy: 0.8205128205128205\n",
            "Predicted Class: [1]\n"
          ]
        },
        {
          "output_type": "stream",
          "name": "stderr",
          "text": [
            "/usr/local/lib/python3.10/dist-packages/sklearn/base.py:439: UserWarning: X does not have valid feature names, but SVC was fitted with feature names\n",
            "  warnings.warn(\n"
          ]
        }
      ]
    },
    {
      "cell_type": "code",
      "source": [
        "# Use the predict function\n",
        "predicted_classes = clf_linear.predict(X_test)\n",
        "print(\"Predicted Classes:\", predicted_classes)\n"
      ],
      "metadata": {
        "colab": {
          "base_uri": "https://localhost:8080/"
        },
        "id": "26aR75JZVtAI",
        "outputId": "9d254072-6a1e-44b5-a5ad-2df9bad820c1"
      },
      "execution_count": 12,
      "outputs": [
        {
          "output_type": "stream",
          "name": "stdout",
          "text": [
            "Predicted Classes: [1 1 1 1 1 1 1 1 1 1 1 1 1 1 1 1 1 1 1 1 1 1 1 1 1 1 1 1 1 1 1 1 1 1 1 1 1\n",
            " 1 1]\n"
          ]
        }
      ]
    },
    {
      "cell_type": "code",
      "source": [
        "# Experiment with various kernel functions: 'poly', 'rbf', 'sigmoid'\n",
        "kernels = ['poly', 'rbf', 'sigmoid']\n",
        "\n",
        "for kernel in kernels:\n",
        "    clf = svm.SVC(kernel=kernel)\n",
        "    clf.fit(X_train, y_train)\n",
        "\n",
        "    # Test the accuracy of the SVM with the current kernel\n",
        "    accuracy = clf.score(X_test, y_test)\n",
        "    print(f\"Accuracy_{kernel} kernel:\", accuracy)\n"
      ],
      "metadata": {
        "colab": {
          "base_uri": "https://localhost:8080/"
        },
        "id": "hMoMYGsbVwDr",
        "outputId": "38f696f0-7eb1-49b0-f487-99e95973a195"
      },
      "execution_count": 13,
      "outputs": [
        {
          "output_type": "stream",
          "name": "stdout",
          "text": [
            "Accuracy_poly kernel: 0.8205128205128205\n",
            "Accuracy_rbf kernel: 0.8205128205128205\n",
            "Accuracy_sigmoid kernel: 0.7948717948717948\n"
          ]
        }
      ]
    }
  ]
}